{
 "cells": [
  {
   "cell_type": "code",
   "execution_count": 35,
   "metadata": {},
   "outputs": [],
   "source": [
    "#import pack\n",
    "import pandas as pd \n",
    "import numpy as np \n",
    "import matplotlib.pyplot as plt \n",
    "import seaborn as sns"
   ]
  },
  {
   "cell_type": "code",
   "execution_count": 36,
   "metadata": {},
   "outputs": [],
   "source": [
    "# import des data\n",
    "from tensorflow.keras.datasets import cifar10\n",
    "\n",
    "(X_train , y_train), (X_test , y_test) = cifar10.load_data()"
   ]
  },
  {
   "cell_type": "code",
   "execution_count": 37,
   "metadata": {},
   "outputs": [
    {
     "data": {
      "text/plain": [
       "255"
      ]
     },
     "execution_count": 37,
     "metadata": {},
     "output_type": "execute_result"
    },
    {
     "data": {
      "image/png": "[encoded data removed]",
      "text/plain": [
       "<Figure size 432x288 with 1 Axes>"
      ]
     },
     "metadata": {
      "needs_background": "light"
     },
     "output_type": "display_data"
    }
   ],
   "source": [
    "#analyse \n",
    "X_train.shape  #(50000, 32, 32, 3)  \n",
    "# cela contient nb d image , 32*32 pixels , 3 caneaux de couleur\n",
    "\n",
    "plt.imshow (X_train[1])\n",
    "#les images sont tres petites et mal pixelisé\n",
    "\n",
    "X_train[0].max()  #255"
   ]
  },
  {
   "cell_type": "code",
   "execution_count": 38,
   "metadata": {},
   "outputs": [
    {
     "data": {
      "text/plain": [
       "0"
      ]
     },
     "execution_count": 38,
     "metadata": {},
     "output_type": "execute_result"
    }
   ],
   "source": [
    "# analyse target\n",
    "# y_train.shape (50000, 1)\n",
    "\n",
    "y_train.max()\n",
    "y_train.min()\n",
    "\n",
    "# cest de la classification "
   ]
  },
  {
   "cell_type": "code",
   "execution_count": 39,
   "metadata": {},
   "outputs": [],
   "source": [
    "#nomalisation \n",
    "X_train_n = X_train /255\n",
    "X_test_n = X_test /255"
   ]
  },
  {
   "cell_type": "code",
   "execution_count": 40,
   "metadata": {},
   "outputs": [],
   "source": [
    "#transformation en category \n",
    "from tensorflow.keras.utils import to_categorical\n",
    "\n",
    "y_train_c = to_categorical (y_train)\n",
    "y_test_c = to_categorical (y_test)\n",
    "\n",
    "# https://www.cs.toronto.edu/~kriz/cifar.html"
   ]
  },
  {
   "cell_type": "code",
   "execution_count": 41,
   "metadata": {},
   "outputs": [
    {
     "data": {
      "text/plain": [
       "(50000, 32, 32, 3)"
      ]
     },
     "execution_count": 41,
     "metadata": {},
     "output_type": "execute_result"
    }
   ],
   "source": [
    "X_train.shape\n",
    "# y_train_c.shape"
   ]
  },
  {
   "cell_type": "code",
   "execution_count": 42,
   "metadata": {},
   "outputs": [],
   "source": [
    "#CNN\n",
    "from tensorflow.keras.models import Sequential\n",
    "from tensorflow.keras.layers import Dense , Conv2D, MaxPool2D, Flatten\n",
    "\n",
    "model = Sequential ()\n",
    "\n",
    "model.add(Conv2D ( filters = 32, \n",
    "                  kernel_size = (4,4), \n",
    "                  activation='relu', \n",
    "                  input_shape= (32, 32, 3) ) )\n",
    "          \n",
    "model.add(MaxPool2D ( pool_size=(2, 2) )  )\n",
    "          \n",
    "model.add(Flatten ())\n",
    "          \n",
    "model.add ( Dense (128 , activation = 'relu'))\n",
    "\n",
    "model.add ( Dense (10 ,                      # il y a 10 classes\n",
    "                   activation = 'softmax'))  # c est un pb de \n",
    "                                             # classification multi class\n"
   ]
  },
  {
   "cell_type": "code",
   "execution_count": 43,
   "metadata": {},
   "outputs": [],
   "source": [
    "# compile\n",
    "model.compile ( optimizer='adam',\n",
    "                loss='binary_crossentropy',\n",
    "                metrics=['accuracy'],)\n"
   ]
  },
  {
   "cell_type": "code",
   "execution_count": 44,
   "metadata": {},
   "outputs": [],
   "source": [
    "#earlystopping\n",
    "from tensorflow.keras.callbacks import EarlyStopping\n",
    "\n",
    "ea = EarlyStopping ( monitor='val_loss',\n",
    "                patience=1)"
   ]
  },
  {
   "cell_type": "code",
   "execution_count": 45,
   "metadata": {},
   "outputs": [
    {
     "name": "stdout",
     "output_type": "stream",
     "text": [
      "Epoch 1/10\n",
      "1563/1563 [==============================] - 41s 26ms/step - loss: 0.2214 - accuracy: 0.4844 - val_loss: 0.1956 - val_accuracy: 0.5552\n",
      "Epoch 2/10\n",
      "1563/1563 [==============================] - 39s 25ms/step - loss: 0.1816 - accuracy: 0.5976 - val_loss: 0.1783 - val_accuracy: 0.6058\n",
      "Epoch 3/10\n",
      "1563/1563 [==============================] - 40s 26ms/step - loss: 0.1624 - accuracy: 0.6462 - val_loss: 0.1727 - val_accuracy: 0.6197\n",
      "Epoch 4/10\n",
      "1563/1563 [==============================] - 40s 26ms/step - loss: 0.1469 - accuracy: 0.6856 - val_loss: 0.1640 - val_accuracy: 0.6472\n",
      "Epoch 5/10\n",
      "1563/1563 [==============================] - 40s 26ms/step - loss: 0.1363 - accuracy: 0.7092 - val_loss: 0.1671 - val_accuracy: 0.6428\n"
     ]
    },
    {
     "data": {
      "text/plain": [
       "<tensorflow.python.keras.callbacks.History at 0x2974f819af0>"
      ]
     },
     "execution_count": 45,
     "metadata": {},
     "output_type": "execute_result"
    }
   ],
   "source": [
    "# fit \n",
    "model.fit ( x=X_train_n,\n",
    "            y=y_train_c,\n",
    "            epochs=10,\n",
    "            callbacks=[ea],\n",
    "            validation_data=(X_test_n, y_test_c)   )"
   ]
  },
  {
   "cell_type": "code",
   "execution_count": 49,
   "metadata": {},
   "outputs": [
    {
     "data": {
      "text/plain": [
       "<AxesSubplot:>"
      ]
     },
     "execution_count": 49,
     "metadata": {},
     "output_type": "execute_result"
    },
    {
     "data": {
      "image/png": "[encoded data removed]",
      "text/plain": [
       "<Figure size 432x288 with 1 Axes>"
      ]
     },
     "metadata": {
      "needs_background": "light"
     },
     "output_type": "display_data"
    },
    {
     "data": {
      "image/png": "[encoded data removed]",
      "text/plain": [
       "<Figure size 432x288 with 1 Axes>"
      ]
     },
     "metadata": {
      "needs_background": "light"
     },
     "output_type": "display_data"
    }
   ],
   "source": [
    "df = pd.DataFrame(model.history.history)\n",
    "\n",
    "df[['loss' , 'val_loss' ]].plot ()\n",
    "\n",
    "df[['accuracy' , 'val_accuracy' ]].plot ()\n"
   ]
  },
  {
   "cell_type": "code",
   "execution_count": 51,
   "metadata": {},
   "outputs": [
    {
     "data": {
      "text/plain": [
       "(50000, 32, 32, 3)"
      ]
     },
     "execution_count": 51,
     "metadata": {},
     "output_type": "execute_result"
    }
   ],
   "source": [
    "X_train_n.shape\n"
   ]
  },
  {
   "cell_type": "code",
   "execution_count": null,
   "metadata": {},
   "outputs": [],
   "source": [
    "y_train_c"
   ]
  },
  {
   "cell_type": "code",
   "execution_count": 63,
   "metadata": {},
   "outputs": [
    {
     "data": {
      "text/plain": [
       "array([0., 0., 0., 1., 0., 0., 0., 0., 0., 0.], dtype=float32)"
      ]
     },
     "execution_count": 63,
     "metadata": {},
     "output_type": "execute_result"
    }
   ],
   "source": [
    "y_test_c[0]"
   ]
  },
  {
   "cell_type": "code",
   "execution_count": 74,
   "metadata": {},
   "outputs": [
    {
     "data": {
      "text/plain": [
       "array([[0., 0., 0., ..., 0., 0., 0.],\n",
       "       [0., 1., 0., ..., 0., 0., 0.],\n",
       "       [1., 0., 0., ..., 0., 0., 0.],\n",
       "       ...,\n",
       "       [0., 0., 0., ..., 0., 0., 0.],\n",
       "       [0., 1., 0., ..., 0., 0., 0.],\n",
       "       [0., 0., 0., ..., 1., 0., 0.]], dtype=float32)"
      ]
     },
     "execution_count": 74,
     "metadata": {},
     "output_type": "execute_result"
    }
   ],
   "source": [
    "# prediction set de test\n",
    "pred = to_categorical ( np.argmax ( model.predict (  X_test_n  ) , axis = 1 ) )\n",
    "\n",
    "pred"
   ]
  },
  {
   "cell_type": "code",
   "execution_count": 80,
   "metadata": {},
   "outputs": [
    {
     "data": {
      "text/plain": [
       "array([[763,  32,  58,   5,  19,   5,  23,   3,  47,  45],\n",
       "       [ 26, 826,  12,   6,   3,   3,  11,   3,  16,  94],\n",
       "       [ 86,  13, 524,  34,  94,  96,  85,  40,  14,  14],\n",
       "       [ 26,  30, 120, 315,  73, 243, 106,  31,  26,  30],\n",
       "       [ 43,  10, 118,  50, 539,  52,  91,  77,  15,   5],\n",
       "       [ 25,  14,  94,  96,  48, 609,  44,  36,  21,  13],\n",
       "       [  9,  15,  48,  41,  29,  39, 792,   8,   9,  10],\n",
       "       [ 23,  10,  51,  25,  80,  95,  14, 674,   3,  25],\n",
       "       [140,  89,  13,   4,   7,  10,  11,   4, 667,  55],\n",
       "       [ 43, 148,  13,   4,   7,  13,  15,  14,  24, 719]], dtype=int64)"
      ]
     },
     "execution_count": 80,
     "metadata": {},
     "output_type": "execute_result"
    },
    {
     "data": {
      "image/png": "[encoded data removed]",
      "text/plain": [
       "<Figure size 1152x576 with 2 Axes>"
      ]
     },
     "metadata": {
      "needs_background": "light"
     },
     "output_type": "display_data"
    }
   ],
   "source": [
    "# confusion_matrix\n",
    "from sklearn.metrics import classification_report , confusion_matrix\n",
    "\n",
    "conf = confusion_matrix(y_test_c.argmax(axis=1), pred.argmax(axis=1)  , )\n",
    "\n",
    "\n",
    "plt.figure (figsize = (16,8))\n",
    "sns.heatmap (conf , annot = True) ;\n",
    "conf"
   ]
  },
  {
   "cell_type": "code",
   "execution_count": 82,
   "metadata": {},
   "outputs": [
    {
     "name": "stdout",
     "output_type": "stream",
     "text": [
      "              precision    recall  f1-score   support\n",
      "\n",
      "           0       0.64      0.76      0.70      1000\n",
      "           1       0.70      0.83      0.76      1000\n",
      "           2       0.50      0.52      0.51      1000\n",
      "           3       0.54      0.32      0.40      1000\n",
      "           4       0.60      0.54      0.57      1000\n",
      "           5       0.52      0.61      0.56      1000\n",
      "           6       0.66      0.79      0.72      1000\n",
      "           7       0.76      0.67      0.71      1000\n",
      "           8       0.79      0.67      0.72      1000\n",
      "           9       0.71      0.72      0.72      1000\n",
      "\n",
      "   micro avg       0.64      0.64      0.64     10000\n",
      "   macro avg       0.64      0.64      0.64     10000\n",
      "weighted avg       0.64      0.64      0.64     10000\n",
      " samples avg       0.64      0.64      0.64     10000\n",
      "\n"
     ]
    }
   ],
   "source": [
    "# classification_report\n",
    "print (classification_report (y_test_c, pred))"
   ]
  },
  {
   "cell_type": "code",
   "execution_count": 88,
   "metadata": {},
   "outputs": [
    {
     "data": {
      "text/plain": [
       "3"
      ]
     },
     "execution_count": 88,
     "metadata": {},
     "output_type": "execute_result"
    }
   ],
   "source": [
    "# prdiction unique \n",
    "\n",
    "une_pred = model.predict (X_test[0].reshape (1, 32, 32, 3) ) \n",
    "une_pred.argmax()\n",
    "\n",
    "# donc on predit un chat \n",
    "# https://www.cs.toronto.edu/~kriz/cifar.html"
   ]
  },
  {
   "cell_type": "code",
   "execution_count": 89,
   "metadata": {},
   "outputs": [
    {
     "data": {
      "text/plain": [
       "<matplotlib.image.AxesImage at 0x2974f830c40>"
      ]
     },
     "execution_count": 89,
     "metadata": {},
     "output_type": "execute_result"
    },
    {
     "data": {
      "image/png": "[encoded data removed]",
      "text/plain": [
       "<Figure size 432x288 with 1 Axes>"
      ]
     },
     "metadata": {
      "needs_background": "light"
     },
     "output_type": "display_data"
    }
   ],
   "source": [
    "plt.imshow ( X_test[0])"
   ]
  },
  {
   "cell_type": "code",
   "execution_count": 85,
   "metadata": {},
   "outputs": [
    {
     "data": {
      "text/plain": [
       "(10000, 32, 32, 3)"
      ]
     },
     "execution_count": 85,
     "metadata": {},
     "output_type": "execute_result"
    }
   ],
   "source": [
    "X_test.shape"
   ]
  },
  {
   "cell_type": "code",
   "execution_count": 86,
   "metadata": {},
   "outputs": [
    {
     "data": {
      "text/plain": [
       "(32, 32, 3)"
      ]
     },
     "execution_count": 86,
     "metadata": {},
     "output_type": "execute_result"
    }
   ],
   "source": [
    "X_test[0].shape"
   ]
  },
  {
   "cell_type": "code",
   "execution_count": null,
   "metadata": {},
   "outputs": [],
   "source": [
    "#conclusion :\n",
    "# c est pas mal pour une 1ere approche \n",
    "# mais le CNN peut etre ameliorer pour avoir une meilleure accuracy "
   ]
  },
  {
   "cell_type": "code",
   "execution_count": 90,
   "metadata": {},
   "outputs": [],
   "source": [
    "# new CNN \n",
    "from tensorflow.keras.models import Sequential\n",
    "from tensorflow.keras.layers import Dense , Conv2D, MaxPool2D, Flatten\n",
    "\n",
    "model = Sequential ()\n",
    "\n",
    "model.add(Conv2D ( filters = 32, \n",
    "                  kernel_size = (4,4), \n",
    "                  activation='relu', \n",
    "                  input_shape= (32, 32, 3) ) )\n",
    "          \n",
    "model.add(MaxPool2D ( pool_size=(2, 2) )  )\n",
    "\n",
    "#par rapport au modele precedent nous avons ajouté une couche de conv et de \n",
    "#pooling\n",
    "model.add(Conv2D ( filters = 32, \n",
    "                  kernel_size = (4,4), \n",
    "                  activation='relu', \n",
    "                  input_shape= (32, 32, 3) ) )\n",
    "          \n",
    "model.add(MaxPool2D ( pool_size=(2, 2) )  )\n",
    "          \n",
    "model.add(Flatten ())\n",
    "          \n",
    "model.add ( Dense (128 , activation = 'relu'))\n",
    "\n",
    "model.add ( Dense (10 ,                      # il y a 10 classes\n",
    "                   activation = 'softmax'))  # c est un pb de \n",
    "                                             # classification multi class\n"
   ]
  },
  {
   "cell_type": "code",
   "execution_count": 91,
   "metadata": {},
   "outputs": [],
   "source": [
    "# compile new model\n",
    "model.compile (     optimizer='adam',\n",
    "    loss='binary_crossentropy',\n",
    "    metrics=['accuracy'], )"
   ]
  },
  {
   "cell_type": "code",
   "execution_count": 92,
   "metadata": {},
   "outputs": [],
   "source": [
    "#callbacks \n",
    "\n",
    "from tensorflow.keras.callbacks import EarlyStopping\n",
    "\n",
    "ea = EarlyStopping (    monitor='val_loss',\n",
    "    patience=1,)"
   ]
  },
  {
   "cell_type": "code",
   "execution_count": 93,
   "metadata": {},
   "outputs": [
    {
     "name": "stdout",
     "output_type": "stream",
     "text": [
      "Epoch 1/10\n",
      "1563/1563 [==============================] - 51s 33ms/step - loss: 0.2294 - accuracy: 0.4588 - val_loss: 0.2066 - val_accuracy: 0.5240\n",
      "Epoch 2/10\n",
      "1563/1563 [==============================] - 50s 32ms/step - loss: 0.1850 - accuracy: 0.5873 - val_loss: 0.1802 - val_accuracy: 0.5979\n",
      "Epoch 3/10\n",
      "1563/1563 [==============================] - 50s 32ms/step - loss: 0.1652 - accuracy: 0.6378 - val_loss: 0.1646 - val_accuracy: 0.6420\n",
      "Epoch 4/10\n",
      "1563/1563 [==============================] - 51s 32ms/step - loss: 0.1504 - accuracy: 0.6762 - val_loss: 0.1569 - val_accuracy: 0.6566\n",
      "Epoch 5/10\n",
      "1563/1563 [==============================] - 50s 32ms/step - loss: 0.1398 - accuracy: 0.6989 - val_loss: 0.1514 - val_accuracy: 0.6745\n",
      "Epoch 6/10\n",
      "1563/1563 [==============================] - 50s 32ms/step - loss: 0.1300 - accuracy: 0.7238 - val_loss: 0.1498 - val_accuracy: 0.6835\n",
      "Epoch 7/10\n",
      "1563/1563 [==============================] - 50s 32ms/step - loss: 0.1221 - accuracy: 0.7416 - val_loss: 0.1613 - val_accuracy: 0.6553\n"
     ]
    },
    {
     "data": {
      "text/plain": [
       "<tensorflow.python.keras.callbacks.History at 0x2974f50c100>"
      ]
     },
     "execution_count": 93,
     "metadata": {},
     "output_type": "execute_result"
    }
   ],
   "source": [
    "#fit\n",
    "\n",
    "model.fit ( x=X_train_n,\n",
    "            y=y_train_c,\n",
    "            epochs=10,\n",
    "            callbacks=[ea],\n",
    "            validation_data=(X_test_n, y_test_c)   )"
   ]
  },
  {
   "cell_type": "code",
   "execution_count": 95,
   "metadata": {},
   "outputs": [],
   "source": [
    "#prediction \n",
    "\n",
    "p = to_categorical(np.argmax(model.predict (X_test_n) , axis = 1))"
   ]
  },
  {
   "cell_type": "code",
   "execution_count": 97,
   "metadata": {},
   "outputs": [
    {
     "name": "stdout",
     "output_type": "stream",
     "text": [
      "              precision    recall  f1-score   support\n",
      "\n",
      "           0       0.73      0.63      0.67      1163\n",
      "           1       0.83      0.79      0.81      1044\n",
      "           2       0.62      0.46      0.53      1332\n",
      "           3       0.25      0.60      0.36       426\n",
      "           4       0.65      0.56      0.60      1169\n",
      "           5       0.49      0.63      0.55       773\n",
      "           6       0.77      0.68      0.73      1132\n",
      "           7       0.73      0.73      0.73       999\n",
      "           8       0.76      0.76      0.76      1007\n",
      "           9       0.72      0.76      0.74       955\n",
      "\n",
      "   micro avg       0.66      0.66      0.66     10000\n",
      "   macro avg       0.66      0.66      0.65     10000\n",
      "weighted avg       0.68      0.66      0.66     10000\n",
      " samples avg       0.66      0.66      0.66     10000\n",
      "\n"
     ]
    }
   ],
   "source": [
    "# evaluation \n",
    "\n",
    "from sklearn.metrics import classification_report \n",
    "print (classification_report (p ,y_test_c ))\n",
    "\n",
    "#analyse \n",
    "# L accuracy de la classe 3 (cat) n est pas tres elevé\n",
    "# L accuracy de la classe 5 (chien) n est pas tres elevé\n",
    "\n",
    "# le modele a du mal a reconnaitre les chats et les chients\n",
    "#  ce qui baisse la presicion general du modele"
   ]
  },
  {
   "cell_type": "code",
   "execution_count": null,
   "metadata": {},
   "outputs": [],
   "source": [
    "# conlusion : \n",
    "# les resultats sont deja superieur\n",
    "#essayons plus fort "
   ]
  },
  {
   "cell_type": "code",
   "execution_count": 103,
   "metadata": {},
   "outputs": [],
   "source": [
    "# new CNN \n",
    "from tensorflow.keras.models import Sequential\n",
    "from tensorflow.keras.layers import Dense , Conv2D, MaxPool2D, Flatten\n",
    "\n",
    "model = Sequential ()\n",
    "\n",
    "model.add(Conv2D ( filters = 32, \n",
    "                  kernel_size = (4,4), \n",
    "                  activation='relu', \n",
    "                  input_shape= (32, 32, 3) ) )\n",
    "          \n",
    "model.add(MaxPool2D ( pool_size=(2, 2) )  )\n",
    "\n",
    "model.add(Conv2D ( filters = 32, \n",
    "                  kernel_size = (4,4), \n",
    "                  activation='relu', \n",
    "                  input_shape= (32, 32, 3) ) )\n",
    "          \n",
    "model.add(MaxPool2D ( pool_size=(2, 2) )  )\n",
    "\n",
    "\n",
    "#par rapport au modele precedent nous avons ajouté 1 couche de conv et de \n",
    "#pooling\n",
    "model.add(Conv2D ( filters = 32, \n",
    "                  kernel_size = (4,4), \n",
    "                  activation='relu', \n",
    "                  input_shape= (32, 32, 3) ) )\n",
    "          \n",
    "model.add(MaxPool2D ( pool_size=(2, 2) )  )\n",
    "\n",
    "#\n",
    "\n",
    "model.add(Flatten ())\n",
    "          \n",
    "model.add ( Dense (128 , activation = 'relu'))\n",
    "\n",
    "model.add ( Dense (10 ,                      # il y a 10 classes\n",
    "                   activation = 'softmax'))  # c est un pb de \n",
    "                                             # classification multi class\n"
   ]
  },
  {
   "cell_type": "code",
   "execution_count": 105,
   "metadata": {},
   "outputs": [
    {
     "name": "stdout",
     "output_type": "stream",
     "text": [
      "Model: \"sequential_5\"\n",
      "_________________________________________________________________\n",
      "Layer (type)                 Output Shape              Param #   \n",
      "=================================================================\n",
      "conv2d_10 (Conv2D)           (None, 29, 29, 32)        1568      \n",
      "_________________________________________________________________\n",
      "max_pooling2d_9 (MaxPooling2 (None, 14, 14, 32)        0         \n",
      "_________________________________________________________________\n",
      "conv2d_11 (Conv2D)           (None, 11, 11, 32)        16416     \n",
      "_________________________________________________________________\n",
      "max_pooling2d_10 (MaxPooling (None, 5, 5, 32)          0         \n",
      "_________________________________________________________________\n",
      "conv2d_12 (Conv2D)           (None, 2, 2, 32)          16416     \n",
      "_________________________________________________________________\n",
      "max_pooling2d_11 (MaxPooling (None, 1, 1, 32)          0         \n",
      "_________________________________________________________________\n",
      "flatten_4 (Flatten)          (None, 32)                0         \n",
      "_________________________________________________________________\n",
      "dense_8 (Dense)              (None, 128)               4224      \n",
      "_________________________________________________________________\n",
      "dense_9 (Dense)              (None, 10)                1290      \n",
      "=================================================================\n",
      "Total params: 39,914\n",
      "Trainable params: 39,914\n",
      "Non-trainable params: 0\n",
      "_________________________________________________________________\n"
     ]
    }
   ],
   "source": [
    "# summary model\n",
    "model.summary()"
   ]
  },
  {
   "cell_type": "code",
   "execution_count": 106,
   "metadata": {},
   "outputs": [],
   "source": [
    "# compile new model\n",
    "model.compile (     optimizer='adam',\n",
    "    loss='binary_crossentropy',\n",
    "    metrics=['accuracy'], )"
   ]
  },
  {
   "cell_type": "code",
   "execution_count": 107,
   "metadata": {},
   "outputs": [
    {
     "name": "stdout",
     "output_type": "stream",
     "text": [
      "Epoch 1/10\n",
      "1563/1563 [==============================] - 42s 27ms/step - loss: 0.2496 - accuracy: 0.3885 - val_loss: 0.2174 - val_accuracy: 0.4937\n",
      "Epoch 2/10\n",
      "1563/1563 [==============================] - 47s 30ms/step - loss: 0.2049 - accuracy: 0.5285 - val_loss: 0.1960 - val_accuracy: 0.5478\n",
      "Epoch 3/10\n",
      "1563/1563 [==============================] - 42s 27ms/step - loss: 0.1854 - accuracy: 0.5861 - val_loss: 0.1881 - val_accuracy: 0.5789\n",
      "Epoch 4/10\n",
      "1563/1563 [==============================] - 48s 30ms/step - loss: 0.1725 - accuracy: 0.6177 - val_loss: 0.1772 - val_accuracy: 0.6087\n",
      "Epoch 5/10\n",
      "1563/1563 [==============================] - 42s 27ms/step - loss: 0.1640 - accuracy: 0.6400 - val_loss: 0.1708 - val_accuracy: 0.6281\n",
      "Epoch 6/10\n",
      "1563/1563 [==============================] - 45s 29ms/step - loss: 0.1569 - accuracy: 0.6581 - val_loss: 0.1614 - val_accuracy: 0.6469\n",
      "Epoch 7/10\n",
      "1563/1563 [==============================] - 49s 32ms/step - loss: 0.1507 - accuracy: 0.6727 - val_loss: 0.1629 - val_accuracy: 0.6477\n"
     ]
    },
    {
     "data": {
      "text/plain": [
       "<tensorflow.python.keras.callbacks.History at 0x297380c17c0>"
      ]
     },
     "execution_count": 107,
     "metadata": {},
     "output_type": "execute_result"
    }
   ],
   "source": [
    "model.fit ( x=X_train_n,\n",
    "            y=y_train_c,\n",
    "            epochs=10,\n",
    "            callbacks=[ea],\n",
    "            validation_data=(X_test_n, y_test_c)   )"
   ]
  },
  {
   "cell_type": "code",
   "execution_count": 108,
   "metadata": {},
   "outputs": [],
   "source": [
    "#prediction \n",
    "\n",
    "p = to_categorical(np.argmax(model.predict (X_test_n) , axis = 1))"
   ]
  },
  {
   "cell_type": "code",
   "execution_count": 109,
   "metadata": {},
   "outputs": [
    {
     "name": "stdout",
     "output_type": "stream",
     "text": [
      "              precision    recall  f1-score   support\n",
      "\n",
      "           0       0.70      0.66      0.68      1067\n",
      "           1       0.83      0.76      0.79      1095\n",
      "           2       0.60      0.49      0.54      1239\n",
      "           3       0.44      0.50      0.47       888\n",
      "           4       0.55      0.58      0.56       948\n",
      "           5       0.40      0.68      0.50       585\n",
      "           6       0.80      0.64      0.71      1254\n",
      "           7       0.69      0.71      0.70       979\n",
      "           8       0.79      0.75      0.77      1054\n",
      "           9       0.68      0.76      0.72       891\n",
      "\n",
      "   micro avg       0.65      0.65      0.65     10000\n",
      "   macro avg       0.65      0.65      0.64     10000\n",
      "weighted avg       0.67      0.65      0.65     10000\n",
      " samples avg       0.65      0.65      0.65     10000\n",
      "\n"
     ]
    }
   ],
   "source": [
    "# evaluation \n",
    "\n",
    "from sklearn.metrics import classification_report \n",
    "print (classification_report (p ,y_test_c ))\n",
    "\n",
    "#la precision est plus basse \n",
    "# les images sont petites "
   ]
  }
 ],
 "metadata": {
  "kernelspec": {
   "display_name": "Python 3",
   "language": "python",
   "name": "python3"
  },
  "language_info": {
   "codemirror_mode": {
    "name": "ipython",
    "version": 3
   },
   "file_extension": ".py",
   "mimetype": "text/x-python",
   "name": "python",
   "nbconvert_exporter": "python",
   "pygments_lexer": "ipython3",
   "version": "3.8.3"
  }
 },
 "nbformat": 4,
 "nbformat_minor": 4
}
